{
 "cells": [
  {
   "cell_type": "code",
   "execution_count": 2,
   "metadata": {},
   "outputs": [],
   "source": [
    "dp = []\n",
    "for i in range(5):\n",
    "    dp.append([0]*(7))"
   ]
  },
  {
   "cell_type": "code",
   "execution_count": 3,
   "metadata": {},
   "outputs": [
    {
     "data": {
      "text/plain": [
       "[[0, 0, 0, 0, 0, 0, 0],\n",
       " [0, 0, 0, 0, 0, 0, 0],\n",
       " [0, 0, 0, 0, 0, 0, 0],\n",
       " [0, 0, 0, 0, 0, 0, 0],\n",
       " [0, 0, 0, 0, 0, 0, 0]]"
      ]
     },
     "execution_count": 3,
     "metadata": {},
     "output_type": "execute_result"
    }
   ],
   "source": [
    "dp\n"
   ]
  },
  {
   "cell_type": "code",
   "execution_count": 4,
   "metadata": {},
   "outputs": [
    {
     "data": {
      "text/plain": [
       "[0, 0, 0, 0, 0, 0, 0]"
      ]
     },
     "execution_count": 4,
     "metadata": {},
     "output_type": "execute_result"
    }
   ],
   "source": [
    "[0]*7\n"
   ]
  },
  {
   "cell_type": "code",
   "execution_count": 7,
   "metadata": {},
   "outputs": [],
   "source": [
    "bag = [[4,45],[5,57],[2,22],[1,11],[6,67]]\n",
    "n = 8\n",
    "dp = []\n",
    "\n",
    "for i in range(len(bag)): dp.append([0]*(n+1))\n",
    "\n",
    "for i in range(n+1):\n",
    "\n",
    "    if i >= bag[0][0]: dp[0][i] = bag[0][1]"
   ]
  },
  {
   "cell_type": "code",
   "execution_count": 8,
   "metadata": {},
   "outputs": [
    {
     "data": {
      "text/plain": [
       "[[0, 0, 0, 0, 45, 45, 45, 45, 45],\n",
       " [0, 0, 0, 0, 0, 0, 0, 0, 0],\n",
       " [0, 0, 0, 0, 0, 0, 0, 0, 0],\n",
       " [0, 0, 0, 0, 0, 0, 0, 0, 0],\n",
       " [0, 0, 0, 0, 0, 0, 0, 0, 0]]"
      ]
     },
     "execution_count": 8,
     "metadata": {},
     "output_type": "execute_result"
    }
   ],
   "source": [
    "dp\n"
   ]
  },
  {
   "cell_type": "code",
   "execution_count": 10,
   "metadata": {},
   "outputs": [],
   "source": [
    "for i in range(1,len(bag)):\n",
    "\n",
    "    for j in range(n+1):\n",
    "\n",
    "        if bag[i][0] <= j:\n",
    "\n",
    "            dp[i][j] = max(dp[i-1][j], dp[i-1][j-bag[i][0]]+bag[i][1])"
   ]
  },
  {
   "cell_type": "code",
   "execution_count": 11,
   "metadata": {},
   "outputs": [
    {
     "data": {
      "text/plain": [
       "[[0, 0, 0, 0, 45, 45, 45, 45, 45],\n",
       " [0, 0, 0, 0, 0, 57, 57, 57, 57],\n",
       " [0, 0, 22, 22, 22, 57, 57, 79, 79],\n",
       " [0, 11, 22, 33, 33, 57, 68, 79, 90],\n",
       " [0, 0, 0, 0, 0, 0, 68, 79, 90]]"
      ]
     },
     "execution_count": 11,
     "metadata": {},
     "output_type": "execute_result"
    }
   ],
   "source": [
    "dp\n"
   ]
  },
  {
   "cell_type": "code",
   "execution_count": 2,
   "metadata": {},
   "outputs": [
    {
     "name": "stdout",
     "output_type": "stream",
     "text": [
      "10\n",
      "100 56 7 89 -12 100 7 -12 100 56\n",
      "10\n",
      "-12 7 7 56 100 -12 100 56 89 100\n"
     ]
    }
   ],
   "source": [
    "a_len = int(input())\n",
    "a = list(map(int, input().split(\" \")))\n",
    "a.sort()\n",
    "b_len = int(input())\n",
    "b = list(map(int, input().split(\" \")))\n",
    "b.sort()"
   ]
  },
  {
   "cell_type": "code",
   "execution_count": 3,
   "metadata": {},
   "outputs": [
    {
     "data": {
      "text/plain": [
       "[-12, -12, 7, 7, 56, 56, 89, 100, 100, 100]"
      ]
     },
     "execution_count": 3,
     "metadata": {},
     "output_type": "execute_result"
    }
   ],
   "source": [
    "a"
   ]
  },
  {
   "cell_type": "code",
   "execution_count": 4,
   "metadata": {},
   "outputs": [
    {
     "data": {
      "text/plain": [
       "[-12, -12, 7, 7, 56, 56, 89, 100, 100, 100]"
      ]
     },
     "execution_count": 4,
     "metadata": {},
     "output_type": "execute_result"
    }
   ],
   "source": [
    "b"
   ]
  },
  {
   "cell_type": "code",
   "execution_count": 17,
   "metadata": {},
   "outputs": [
    {
     "name": "stdout",
     "output_type": "stream",
     "text": [
      "[[ 1.  2.  3.  4.  5.]\n",
      " [16. 17. 18. 19.  6.]\n",
      " [15. 24. 25. 20.  7.]\n",
      " [14. 23. 22. 21.  8.]\n",
      " [13. 12. 11. 10.  9.]]\n"
     ]
    }
   ],
   "source": [
    "import numpy as np\n",
    "N = 5\n",
    "a = np.zeros((N, N))\n",
    "\n",
    "\n",
    "x = 0\n",
    "y = N - 1\n",
    "num = 1\n",
    "while num < N * N:\n",
    "    # 向右\n",
    "    for i in range(x, y):\n",
    "        a[x][i] = num\n",
    "        num += 1\n",
    "\n",
    "    # 向下\n",
    "    for i in range(x, y):\n",
    "        a[i][y] = num\n",
    "        num += 1\n",
    "    # 向左\n",
    "    for i in range(y, x, -1):\n",
    "        a[y][i] = num\n",
    "        num += 1\n",
    "    # 向上\n",
    "    for i in range(y, x, -1):\n",
    "        a[i][x] = num\n",
    "        num += 1\n",
    "    x += 1\n",
    "    y -= 1\n",
    "\n",
    "a[x][y] = N*N\n",
    "print(a)\n",
    "#(0,0)(0,1)(0,2)(0,3)(1,3)(2,3)(3,3)(3,2)(3,1)(3,0)(2,0)(1,0)(1,1)(1,2)(2,2)(2,1)"
   ]
  },
  {
   "cell_type": "code",
   "execution_count": 18,
   "metadata": {},
   "outputs": [
    {
     "data": {
      "text/plain": [
       "4"
      ]
     },
     "execution_count": 18,
     "metadata": {},
     "output_type": "execute_result"
    }
   ],
   "source": [
    "a =[3,4,5,5.5,7,9,7,11,13,15,17]\n",
    "a.index(7)"
   ]
  },
  {
   "cell_type": "code",
   "execution_count": 19,
   "metadata": {},
   "outputs": [
    {
     "data": {
      "text/plain": [
       "140715724874256"
      ]
     },
     "execution_count": 19,
     "metadata": {},
     "output_type": "execute_result"
    }
   ],
   "source": [
    "a = [1,2,3]\n",
    "\n"
   ]
  },
  {
   "cell_type": "code",
   "execution_count": 20,
   "metadata": {},
   "outputs": [
    {
     "data": {
      "text/plain": [
       "140715724874256"
      ]
     },
     "execution_count": 20,
     "metadata": {},
     "output_type": "execute_result"
    }
   ],
   "source": [
    "id(a[0])"
   ]
  },
  {
   "cell_type": "code",
   "execution_count": 21,
   "metadata": {},
   "outputs": [],
   "source": [
    "a[0]=5"
   ]
  },
  {
   "cell_type": "code",
   "execution_count": 22,
   "metadata": {},
   "outputs": [
    {
     "data": {
      "text/plain": [
       "140715724874256"
      ]
     },
     "execution_count": 22,
     "metadata": {},
     "output_type": "execute_result"
    }
   ],
   "source": [
    "\n",
    "id(a[0])\n"
   ]
  },
  {
   "cell_type": "code",
   "execution_count": 23,
   "metadata": {},
   "outputs": [],
   "source": [
    "x=[1,2,1,1,1,1,2,1,2,1,2,1]\n",
    "for i in x:\n",
    "    if i == 1:\n",
    "        x.remove(i)"
   ]
  },
  {
   "cell_type": "code",
   "execution_count": 24,
   "metadata": {},
   "outputs": [
    {
     "data": {
      "text/plain": [
       "[2, 2, 2, 1, 2, 1]"
      ]
     },
     "execution_count": 24,
     "metadata": {},
     "output_type": "execute_result"
    }
   ],
   "source": [
    "x\n"
   ]
  },
  {
   "cell_type": "code",
   "execution_count": 3,
   "metadata": {},
   "outputs": [
    {
     "name": "stdout",
     "output_type": "stream",
     "text": [
      "3 4\n",
      "8 60 1 100\n",
      "10 498 12 49\n",
      "-71 132 4 85\n"
     ]
    }
   ],
   "source": [
    "# 记录行列的列表\n",
    "row_col = list((map(int, input().split(\" \"))))\n",
    "row = row_col[0]\n",
    "col = row_col[1]\n",
    "\n",
    "# 输入二维数组\n",
    "a = []\n",
    "for i in range(row):\n",
    "    a.append(list(map(int, input().split(\" \"))))\n",
    "\n"
   ]
  },
  {
   "cell_type": "code",
   "execution_count": 4,
   "metadata": {},
   "outputs": [
    {
     "data": {
      "text/plain": [
       "[[8, 60, 1, 100], [10, 498, 12, 49], [-71, 132, 4, 85]]"
      ]
     },
     "execution_count": 4,
     "metadata": {},
     "output_type": "execute_result"
    }
   ],
   "source": [
    "a"
   ]
  },
  {
   "cell_type": "code",
   "execution_count": 5,
   "metadata": {},
   "outputs": [
    {
     "data": {
      "text/plain": [
       "3"
      ]
     },
     "execution_count": 5,
     "metadata": {},
     "output_type": "execute_result"
    }
   ],
   "source": [
    "row\n"
   ]
  },
  {
   "cell_type": "code",
   "execution_count": 6,
   "metadata": {},
   "outputs": [
    {
     "data": {
      "text/plain": [
       "4"
      ]
     },
     "execution_count": 6,
     "metadata": {},
     "output_type": "execute_result"
    }
   ],
   "source": [
    "col"
   ]
  },
  {
   "cell_type": "code",
   "execution_count": 10,
   "metadata": {},
   "outputs": [
    {
     "name": "stdout",
     "output_type": "stream",
     "text": [
      "\n"
     ]
    },
    {
     "data": {
      "text/plain": [
       "['']"
      ]
     },
     "execution_count": 10,
     "metadata": {},
     "output_type": "execute_result"
    }
   ],
   "source": [
    "input().split(\" \")"
   ]
  },
  {
   "cell_type": "code",
   "execution_count": null,
   "metadata": {},
   "outputs": [],
   "source": []
  },
  {
   "cell_type": "code",
   "execution_count": 6,
   "metadata": {},
   "outputs": [
    {
     "name": "stdout",
     "output_type": "stream",
     "text": [
      "5 7 12\n",
      "3 -15 4\n",
      "2 6 7\n",
      "+\n",
      "41 8 9\n",
      "7 6 12\n",
      "2 4 6\n",
      "\n"
     ]
    },
    {
     "data": {
      "text/plain": [
       "'\\n# 格式化输出\\nfor i in range(N):\\n    print(\"\".join(\\'{:>5d}\\'.format(j) for j in result))\\n    '"
      ]
     },
     "execution_count": 6,
     "metadata": {},
     "output_type": "execute_result"
    }
   ],
   "source": [
    "import numpy as np\n",
    "\n",
    "tmp = []\n",
    "# 符号\n",
    "symbol = ''\n",
    "# 将输入的数据存入临时数组\n",
    "while True:\n",
    "    str = input()\n",
    "    if str=='':\n",
    "        break\n",
    "    elif str in  ('+', '-', '*'):\n",
    "        symbol = str\n",
    "    else:\n",
    "        tmp.append([int(i) for i in str.split()])\n",
    "\n",
    "# 矩阵的行数\n",
    "N = len(tmp) // 2\n",
    "\n",
    "a = np.mat(tmp[0:N])\n",
    "b = np.mat(tmp[N:])\n",
    "\n",
    "# 判断符号并进行运算\n",
    "if symbol == '+':\n",
    "    result = a + b\n",
    "elif symbol == '-':\n",
    "    result = a - b\n",
    "elif symbol == '*':\n",
    "    result = a * b\n",
    "'''\n",
    "# 格式化输出\n",
    "for i in range(N):\n",
    "    print(\"\".join('{:>5d}'.format(j) for j in result))\n",
    "    '''"
   ]
  },
  {
   "cell_type": "code",
   "execution_count": 7,
   "metadata": {},
   "outputs": [
    {
     "data": {
      "text/plain": [
       "matrix([[46, 15, 21],\n",
       "        [10, -9, 16],\n",
       "        [ 4, 10, 13]])"
      ]
     },
     "execution_count": 7,
     "metadata": {},
     "output_type": "execute_result"
    }
   ],
   "source": [
    "result"
   ]
  },
  {
   "cell_type": "code",
   "execution_count": 3,
   "metadata": {},
   "outputs": [
    {
     "data": {
      "text/plain": [
       "matrix([[0, 0, 0],\n",
       "        [0, 0, 0],\n",
       "        [0, 0, 0]])"
      ]
     },
     "execution_count": 3,
     "metadata": {},
     "output_type": "execute_result"
    }
   ],
   "source": [
    "a"
   ]
  },
  {
   "cell_type": "code",
   "execution_count": 4,
   "metadata": {},
   "outputs": [
    {
     "data": {
      "text/plain": [
       "[[0, 0, 0], [0, 0, 0], [0, 0, 0]]"
      ]
     },
     "execution_count": 4,
     "metadata": {},
     "output_type": "execute_result"
    }
   ],
   "source": [
    "tmp[0:N]"
   ]
  },
  {
   "cell_type": "code",
   "execution_count": 5,
   "metadata": {},
   "outputs": [
    {
     "data": {
      "text/plain": [
       "[[0, 0, 0], [0, 0, 0], [0, 0, 0], [0, 0, 0], [0, 0, 0], [0, 0, 0]]"
      ]
     },
     "execution_count": 5,
     "metadata": {},
     "output_type": "execute_result"
    }
   ],
   "source": [
    "tmp"
   ]
  },
  {
   "cell_type": "code",
   "execution_count": 8,
   "metadata": {},
   "outputs": [
    {
     "data": {
      "text/plain": [
       "matrix([[46, 15, 21],\n",
       "        [10, -9, 16],\n",
       "        [ 4, 10, 13]])"
      ]
     },
     "execution_count": 8,
     "metadata": {},
     "output_type": "execute_result"
    }
   ],
   "source": [
    "result"
   ]
  },
  {
   "cell_type": "code",
   "execution_count": 9,
   "metadata": {},
   "outputs": [
    {
     "data": {
      "text/plain": [
       "array([[46, 15, 21],\n",
       "       [10, -9, 16],\n",
       "       [ 4, 10, 13]])"
      ]
     },
     "execution_count": 9,
     "metadata": {},
     "output_type": "execute_result"
    }
   ],
   "source": [
    "np.array(result)"
   ]
  },
  {
   "cell_type": "code",
   "execution_count": 10,
   "metadata": {},
   "outputs": [
    {
     "data": {
      "text/plain": [
       "[[46, 15, 21], [10, -9, 16], [4, 10, 13]]"
      ]
     },
     "execution_count": 10,
     "metadata": {},
     "output_type": "execute_result"
    }
   ],
   "source": [
    "result.tolist()"
   ]
  },
  {
   "cell_type": "code",
   "execution_count": 3,
   "metadata": {},
   "outputs": [
    {
     "name": "stdout",
     "output_type": "stream",
     "text": [
      "0 0 0 0 0 0 0 0 0 0 0 0 0 0\n",
      "0 0 0 0 0 0 0 0 0 0 0 0 0 0\n",
      "0 0 0 0 0 0 0 0 0 0 0 0 0 0\n",
      "0 0 0 0 0 0 0 0 0 0 0 0 0 0\n",
      "0 0 0 0 0 0 0 0 0 0 0 0 0 0\n",
      "0 0 0 0 0 0 0 0 0 0 0 0 0 0\n",
      "0 0 0 0 0 0 0 0 0 0 0 0 0 0\n",
      "0 0 0 0 0 0 0 0 0 0 0 0 0 0\n",
      "0 0 0 0 0 0 0 0 0 0 0 0 0 0\n",
      "0 0 0 0 0 0 0 0 0 0 0 0 0 0\n",
      "0 0 0 0 0 0 0 0 0 0 0 0 0 0\n",
      "0 0 0 0 0 0 0 0 0 0 0 0 0 0\n",
      "0 0 0 0 0 0 0 0 0 0 0 0 0 0\n",
      "0 0 0 0 0 0 0 0 0 0 0 0 0 0\n",
      "0 0 0 0 0 0 0 0 0 0 0 0 0 0\n",
      "0 0 0 0 0 0 0 0 0 0 0 0 0 0\n",
      "0 0 0 0 0 0 0 0 0 0 0 0 0 0\n",
      "0 0 0 0 0 0 0 0 0 0 0 0 0 0\n",
      "0 0 0 0 0 0 0 0 0 0 0 0 0 0\n"
     ]
    }
   ],
   "source": [
    "chess = []\n",
    "for i in range(19):\n",
    "    chess.append(list(map(int, input().split(\" \"))))"
   ]
  },
  {
   "cell_type": "code",
   "execution_count": 4,
   "metadata": {},
   "outputs": [
    {
     "data": {
      "text/plain": [
       "[[0, 0, 0, 0, 0, 0, 0, 0, 0, 0, 0, 0, 0, 0],\n",
       " [0, 0, 0, 0, 0, 0, 0, 0, 0, 0, 0, 0, 0, 0],\n",
       " [0, 0, 0, 0, 0, 0, 0, 0, 0, 0, 0, 0, 0, 0],\n",
       " [0, 0, 0, 0, 0, 0, 0, 0, 0, 0, 0, 0, 0, 0],\n",
       " [0, 0, 0, 0, 0, 0, 0, 0, 0, 0, 0, 0, 0, 0],\n",
       " [0, 0, 0, 0, 0, 0, 0, 0, 0, 0, 0, 0, 0, 0],\n",
       " [0, 0, 0, 0, 0, 0, 0, 0, 0, 0, 0, 0, 0, 0],\n",
       " [0, 0, 0, 0, 0, 0, 0, 0, 0, 0, 0, 0, 0, 0],\n",
       " [0, 0, 0, 0, 0, 0, 0, 0, 0, 0, 0, 0, 0, 0],\n",
       " [0, 0, 0, 0, 0, 0, 0, 0, 0, 0, 0, 0, 0, 0],\n",
       " [0, 0, 0, 0, 0, 0, 0, 0, 0, 0, 0, 0, 0, 0],\n",
       " [0, 0, 0, 0, 0, 0, 0, 0, 0, 0, 0, 0, 0, 0],\n",
       " [0, 0, 0, 0, 0, 0, 0, 0, 0, 0, 0, 0, 0, 0],\n",
       " [0, 0, 0, 0, 0, 0, 0, 0, 0, 0, 0, 0, 0, 0],\n",
       " [0, 0, 0, 0, 0, 0, 0, 0, 0, 0, 0, 0, 0, 0],\n",
       " [0, 0, 0, 0, 0, 0, 0, 0, 0, 0, 0, 0, 0, 0],\n",
       " [0, 0, 0, 0, 0, 0, 0, 0, 0, 0, 0, 0, 0, 0],\n",
       " [0, 0, 0, 0, 0, 0, 0, 0, 0, 0, 0, 0, 0, 0],\n",
       " [0, 0, 0, 0, 0, 0, 0, 0, 0, 0, 0, 0, 0, 0]]"
      ]
     },
     "execution_count": 4,
     "metadata": {},
     "output_type": "execute_result"
    }
   ],
   "source": [
    "chess\n"
   ]
  },
  {
   "cell_type": "code",
   "execution_count": 5,
   "metadata": {},
   "outputs": [
    {
     "name": "stdout",
     "output_type": "stream",
     "text": [
      "16 2\n",
      "<generator object <genexpr> at 0x000002125F2240C8>\n"
     ]
    }
   ],
   "source": [
    "result = []\n",
    "\n",
    "inp = list(map(int, input().split(\" \")))\n",
    "M = inp[0]\n",
    "N = inp[1]\n",
    "\n",
    "def conversion(M, N):\n",
    "    while not M == 0:\n",
    "        result.insert(0, M % N)\n",
    "        M = M // N\n",
    "        \n",
    "conversion(M, N)\n",
    "print(str(i) for i in result)"
   ]
  },
  {
   "cell_type": "code",
   "execution_count": 6,
   "metadata": {},
   "outputs": [
    {
     "data": {
      "text/plain": [
       "[1, 0, 0, 0, 0]"
      ]
     },
     "execution_count": 6,
     "metadata": {},
     "output_type": "execute_result"
    }
   ],
   "source": [
    "result\n"
   ]
  },
  {
   "cell_type": "code",
   "execution_count": 9,
   "metadata": {},
   "outputs": [],
   "source": [
    "aList = [[chr(97+i), 0] for i in range(26)]"
   ]
  },
  {
   "cell_type": "code",
   "execution_count": 10,
   "metadata": {
    "scrolled": true
   },
   "outputs": [
    {
     "data": {
      "text/plain": [
       "[['a', 0],\n",
       " ['b', 0],\n",
       " ['c', 0],\n",
       " ['d', 0],\n",
       " ['e', 0],\n",
       " ['f', 0],\n",
       " ['g', 0],\n",
       " ['h', 0],\n",
       " ['i', 0],\n",
       " ['j', 0],\n",
       " ['k', 0],\n",
       " ['l', 0],\n",
       " ['m', 0],\n",
       " ['n', 0],\n",
       " ['o', 0],\n",
       " ['p', 0],\n",
       " ['q', 0],\n",
       " ['r', 0],\n",
       " ['s', 0],\n",
       " ['t', 0],\n",
       " ['u', 0],\n",
       " ['v', 0],\n",
       " ['w', 0],\n",
       " ['x', 0],\n",
       " ['y', 0],\n",
       " ['z', 0]]"
      ]
     },
     "execution_count": 10,
     "metadata": {},
     "output_type": "execute_result"
    }
   ],
   "source": [
    "aList"
   ]
  },
  {
   "cell_type": "code",
   "execution_count": 3,
   "metadata": {},
   "outputs": [
    {
     "name": "stdout",
     "output_type": "stream",
     "text": [
      "[<generator object <genexpr> at 0x00000234A306E448>]\n"
     ]
    }
   ],
   "source": [
    "print(aList)"
   ]
  },
  {
   "cell_type": "code",
   "execution_count": 4,
   "metadata": {},
   "outputs": [
    {
     "name": "stdout",
     "output_type": "stream",
     "text": [
      "<generator object <genexpr> at 0x00000234A306E448>\n"
     ]
    }
   ],
   "source": [
    "for i in aList:\n",
    "    print(i)"
   ]
  },
  {
   "cell_type": "code",
   "execution_count": 23,
   "metadata": {},
   "outputs": [
    {
     "name": "stdout",
     "output_type": "stream",
     "text": [
      "cccccaaa\n"
     ]
    }
   ],
   "source": [
    "aList = [[chr(97+i), 0] for i in range(26)]\n",
    "\n",
    "inpu = input()\n",
    "\n",
    "for i in inpu:\n",
    "    tmp = ord(i)\n",
    "    if tmp <= 90 and tmp >= 65:\n",
    "        continue\n",
    "    else:\n",
    "        aList[tmp-97][1] += 1"
   ]
  },
  {
   "cell_type": "code",
   "execution_count": 12,
   "metadata": {
    "scrolled": true
   },
   "outputs": [
    {
     "data": {
      "text/plain": [
       "[['a', 1],\n",
       " ['b', 1],\n",
       " ['c', 1],\n",
       " ['d', 1],\n",
       " ['e', 1],\n",
       " ['f', 1],\n",
       " ['g', 1],\n",
       " ['h', 1],\n",
       " ['i', 1],\n",
       " ['j', 1],\n",
       " ['k', 1],\n",
       " ['l', 1],\n",
       " ['m', 1],\n",
       " ['n', 1],\n",
       " ['o', 1],\n",
       " ['p', 1],\n",
       " ['q', 1],\n",
       " ['r', 1],\n",
       " ['s', 1],\n",
       " ['t', 1],\n",
       " ['u', 1],\n",
       " ['v', 1],\n",
       " ['w', 1],\n",
       " ['x', 1],\n",
       " ['y', 1],\n",
       " ['z', 1]]"
      ]
     },
     "execution_count": 12,
     "metadata": {},
     "output_type": "execute_result"
    }
   ],
   "source": [
    "aList"
   ]
  },
  {
   "cell_type": "code",
   "execution_count": 21,
   "metadata": {},
   "outputs": [
    {
     "name": "stdout",
     "output_type": "stream",
     "text": [
      "abcdefghijklmnopqrstuvwxyz\n"
     ]
    }
   ],
   "source": [
    "print(\"\".join(str(i[0]) for i in aList))"
   ]
  },
  {
   "cell_type": "code",
   "execution_count": 19,
   "metadata": {},
   "outputs": [
    {
     "data": {
      "text/plain": [
       "'b'"
      ]
     },
     "execution_count": 19,
     "metadata": {},
     "output_type": "execute_result"
    }
   ],
   "source": [
    "aList[1][0]"
   ]
  },
  {
   "cell_type": "code",
   "execution_count": 25,
   "metadata": {},
   "outputs": [],
   "source": [
    "a = sorted(aList)"
   ]
  },
  {
   "cell_type": "code",
   "execution_count": 26,
   "metadata": {},
   "outputs": [
    {
     "data": {
      "text/plain": [
       "['a', 3]"
      ]
     },
     "execution_count": 26,
     "metadata": {},
     "output_type": "execute_result"
    }
   ],
   "source": [
    "a[0]"
   ]
  },
  {
   "cell_type": "code",
   "execution_count": 29,
   "metadata": {},
   "outputs": [],
   "source": [
    "max = 0\n",
    "for i in aList:\n",
    "    if i[1] > max:\n",
    "        max = i[1]"
   ]
  },
  {
   "cell_type": "code",
   "execution_count": 30,
   "metadata": {},
   "outputs": [
    {
     "data": {
      "text/plain": [
       "5"
      ]
     },
     "execution_count": 30,
     "metadata": {},
     "output_type": "execute_result"
    }
   ],
   "source": [
    "max"
   ]
  },
  {
   "cell_type": "code",
   "execution_count": 34,
   "metadata": {},
   "outputs": [
    {
     "name": "stdout",
     "output_type": "stream",
     "text": [
      "  *                       \n",
      "  *                       \n",
      "* *                       \n",
      "* *                       \n",
      "* *                       \n",
      "abcdefghijklmnopqrstuvwxyz\n"
     ]
    }
   ],
   "source": [
    "for i in range(max):\n",
    "    a = \"\"\n",
    "    for j in aList:\n",
    "        if max - j[1] - i <= 0:\n",
    "            a += \"*\"\n",
    "        else:\n",
    "            a += \" \"\n",
    "    print(a)\n",
    "print(\"\".join(str(i[0]) for i in aList))"
   ]
  },
  {
   "cell_type": "code",
   "execution_count": 39,
   "metadata": {},
   "outputs": [
    {
     "name": "stdout",
     "output_type": "stream",
     "text": [
      "Zzzzzzzzzzz\n",
      "                         *\n",
      "                         *\n",
      "                         *\n",
      "                         *\n",
      "                         *\n",
      "                         *\n",
      "                         *\n",
      "                         *\n",
      "                         *\n",
      "                         *\n",
      "abcdefghijklmnopqrstuvwxyz\n"
     ]
    }
   ],
   "source": [
    "aList = [[chr(97+i), 0] for i in range(26)]\n",
    "\n",
    "inpu = input()\n",
    "\n",
    "for i in inpu:\n",
    "    tmp = ord(i)\n",
    "    if tmp >= 97 and tmp <= 122:\n",
    "        aList[tmp-97][1] += 1\n",
    "    else:\n",
    "        continue\n",
    "\n",
    "max = 0\n",
    "for i in aList:\n",
    "    if i[1] > max:\n",
    "        max = i[1]\n",
    "\n",
    "for i in range(max):\n",
    "    a = \"\"\n",
    "    for j in aList:\n",
    "        if max - j[1] - i <= 0:\n",
    "            a += \"*\"\n",
    "        else:\n",
    "            a += \" \"\n",
    "    print(a)\n",
    "\n",
    "print(\"\".join(str(i[0]) for i in aList))"
   ]
  },
  {
   "cell_type": "code",
   "execution_count": 20,
   "metadata": {},
   "outputs": [
    {
     "name": "stdout",
     "output_type": "stream",
     "text": [
      "1526374*\n"
     ]
    }
   ],
   "source": [
    "result = []\n",
    "for i in range(8):\n",
    "    result.append([0,0])  \n",
    "  \n",
    "\n",
    "inpu = input()\n",
    "j = 0\n",
    "for i in inpu:\n",
    "    result[j][0] = j + 1\n",
    "    if i == '*':\n",
    "        index = j\n",
    "    else:\n",
    "        result[j][1] = int(i)\n",
    "    j += 1\n",
    "\n"
   ]
  },
  {
   "cell_type": "code",
   "execution_count": 18,
   "metadata": {},
   "outputs": [
    {
     "data": {
      "text/plain": [
       "[[1, 4], [2, 8], [3, 1], [4, 5], [5, 7], [6, 2], [7, 6], [8, 3]]"
      ]
     },
     "execution_count": 18,
     "metadata": {},
     "output_type": "execute_result"
    }
   ],
   "source": [
    "result"
   ]
  },
  {
   "cell_type": "code",
   "execution_count": 21,
   "metadata": {},
   "outputs": [],
   "source": [
    "a = [1, 2, 3, 4, 5, 6, 7, 8]\n",
    "for i in inpu:\n",
    "    if i == '*':\n",
    "        pass\n",
    "    else:\n",
    "        a.remove(int(i))\n",
    "\n",
    "result[index][1] = a[0]\n"
   ]
  },
  {
   "cell_type": "code",
   "execution_count": 13,
   "metadata": {},
   "outputs": [
    {
     "data": {
      "text/plain": [
       "5"
      ]
     },
     "execution_count": 13,
     "metadata": {},
     "output_type": "execute_result"
    }
   ],
   "source": [
    "re"
   ]
  },
  {
   "cell_type": "code",
   "execution_count": 22,
   "metadata": {},
   "outputs": [
    {
     "name": "stdout",
     "output_type": "stream",
     "text": [
      "No Answer\n"
     ]
    }
   ],
   "source": [
    "def queen():\n",
    "    j = 0\n",
    "    for i in range(8):\n",
    "        if i == index:\n",
    "            continue\n",
    "        elif result[i][0] - result[index][0] == result[i][1] - result[index][1]:\n",
    "            return False\n",
    "    return True        \n",
    "            \n",
    "if queen():\n",
    "    print(result[index][1])\n",
    "else:\n",
    "    print(\"No Answer\")"
   ]
  },
  {
   "cell_type": "code",
   "execution_count": 17,
   "metadata": {},
   "outputs": [
    {
     "name": "stdout",
     "output_type": "stream",
     "text": [
      "life Is short, i use python. let us use Python TOGETHER.\n"
     ]
    }
   ],
   "source": [
    "a = input()\n",
    "b = []\n",
    "for i in a.lower():\n",
    "    b.append(i)   "
   ]
  },
  {
   "cell_type": "code",
   "execution_count": 19,
   "metadata": {},
   "outputs": [],
   "source": [
    "b[0] = chr(ord(b[0]) - 32)"
   ]
  },
  {
   "cell_type": "code",
   "execution_count": 24,
   "metadata": {},
   "outputs": [],
   "source": [
    "for i in range(len(b)-2):   \n",
    "    if b[i] == \".\":\n",
    "        b[i+2] = chr(ord(b[i+2]) - 32)\n",
    "    if b[i] == \"i\" and (b[i-1] == \" \" or b[i-1] == \",\") and (b[i+1] == \" \" or b[i+1] == \",\"):\n",
    "        b[i] = chr(ord(b[i]) - 32)  "
   ]
  },
  {
   "cell_type": "code",
   "execution_count": 25,
   "metadata": {},
   "outputs": [
    {
     "name": "stdout",
     "output_type": "stream",
     "text": [
      "Life is short, I use python. Let us use python together.\n"
     ]
    }
   ],
   "source": [
    "print(\"\".join(b))"
   ]
  },
  {
   "cell_type": "code",
   "execution_count": 1,
   "metadata": {},
   "outputs": [
    {
     "name": "stdout",
     "output_type": "stream",
     "text": [
      "\\n\n"
     ]
    }
   ],
   "source": [
    "a = input()\n"
   ]
  },
  {
   "cell_type": "code",
   "execution_count": 2,
   "metadata": {},
   "outputs": [
    {
     "name": "stdout",
     "output_type": "stream",
     "text": [
      "a aaa 4\n"
     ]
    }
   ],
   "source": [
    "a = []\n",
    "a.append(input().split())"
   ]
  },
  {
   "cell_type": "code",
   "execution_count": 3,
   "metadata": {},
   "outputs": [
    {
     "data": {
      "text/plain": [
       "[['a', 'aaa', '4']]"
      ]
     },
     "execution_count": 3,
     "metadata": {},
     "output_type": "execute_result"
    }
   ],
   "source": [
    "a"
   ]
  },
  {
   "cell_type": "code",
   "execution_count": 4,
   "metadata": {},
   "outputs": [],
   "source": [
    "matrix = []\n",
    "for i in range(4):\n",
    "    matrix.append([0] * 4)"
   ]
  },
  {
   "cell_type": "code",
   "execution_count": 5,
   "metadata": {},
   "outputs": [
    {
     "data": {
      "text/plain": [
       "[[0, 0, 0, 0], [0, 0, 0, 0], [0, 0, 0, 0], [0, 0, 0, 0]]"
      ]
     },
     "execution_count": 5,
     "metadata": {},
     "output_type": "execute_result"
    }
   ],
   "source": [
    "matrix\n"
   ]
  },
  {
   "cell_type": "code",
   "execution_count": 8,
   "metadata": {},
   "outputs": [
    {
     "data": {
      "text/plain": [
       "10"
      ]
     },
     "execution_count": 8,
     "metadata": {},
     "output_type": "execute_result"
    }
   ],
   "source": [
    "sum([1,2,3,4])"
   ]
  },
  {
   "cell_type": "code",
   "execution_count": 61,
   "metadata": {},
   "outputs": [],
   "source": [
    "import itertools\n",
    "class Matrix:\n",
    "    def __init__(self):\n",
    "        '''\n",
    "        建立一个4x4的零矩阵\n",
    "        '''\n",
    "        self.n = 4\n",
    "        self.content = []\n",
    "        for i in range(self.n):\n",
    "            self.content.append([0] * self.n)\n",
    "        pass\n",
    "\n",
    "    def get_pos(self, x, y):\n",
    "        '''\n",
    "        获取矩阵第x行第y列的元素，作为返回值\n",
    "        '''\n",
    "        return self.content[x-1][y-1]\n",
    "        pass\n",
    "\n",
    "    def set_pos(self, x, y, value):\n",
    "        '''\n",
    "        将矩阵第x行第y列的元素值改为value\n",
    "        '''\n",
    "        self.content[x-1][y-1] = value\n",
    "        pass\n",
    "\n",
    "    def initialize(self, matlist):\n",
    "        '''\n",
    "        matlist，为一个列表，保证该列表包含四个子列表，每个子列表包含四个整型数值\n",
    "        '''\n",
    "        for i in range(self.n):\n",
    "            for j in range(self.n):\n",
    "                self.set_pos(i+1, j+1, matlist[i][j])\n",
    "        pass\n",
    "\n",
    "    def output(self):\n",
    "        '''\n",
    "        将矩阵以某种格式输出至标准输出流（屏幕）\n",
    "        '''\n",
    "        for i in range(self.n):\n",
    "            s = \"|\"\n",
    "            for j in range(self.n):\n",
    "                s += \"{:>5d}\".format(self.get_pos(i+1, j+1))\n",
    "            s += \"    |\"\n",
    "            print(s)\n",
    "        pass\n",
    "\n",
    "    def trans(self):\n",
    "        '''\n",
    "        计算矩阵的转置矩阵，作为返回值\n",
    "        '''\n",
    "        m = Matrix()\n",
    "        for i in range(self.n):\n",
    "            for j in range(self.n):\n",
    "                m.set_pos(i+1, j+1, self.get_pos(j+1, i+1))\n",
    "        return m\n",
    "        pass\n",
    "\n",
    "    def plus(self, m2):\n",
    "        '''\n",
    "        计算本矩阵与m2矩阵的和，作为返回值\n",
    "        '''\n",
    "        m = Matrix()\n",
    "        for i in range(self.n):\n",
    "            for j in range(self.n):\n",
    "                m.set_pos(i+1, j+1, m2.get_pos(i+1,j+1) + self.get_pos(i+1,j+1))\n",
    "        return m\n",
    "        pass\n",
    "\n",
    "    def multiply(self, m2):\n",
    "        '''\n",
    "        计算本矩阵与m2矩阵的乘积，作为返回值\n",
    "        '''\n",
    "        m = Matrix()\n",
    "        for i in range(self.n):\n",
    "            for j in range(self.n):\n",
    "                a, b = [], []\n",
    "                for x in range(self.n):\n",
    "                    a.append(self.get_pos(i+1, x+1))\n",
    "                for x in range(self.n):\n",
    "                    b.append(m2.get_pos(x+1, j+1))\n",
    "                value = sum(list(itertools.starmap(lambda x,y:x*y , zip(a,b))))\n",
    "                m.set_pos(i+1, j+1, value)\n",
    "        return m\n",
    "        pass\n"
   ]
  },
  {
   "cell_type": "code",
   "execution_count": 31,
   "metadata": {},
   "outputs": [],
   "source": [
    "1 0 0 0\n",
    "0 1 0 1\n",
    "0 1 0 0\n",
    "0 0 1 0\n",
    "1 2 3 4\n",
    "5 6 7 8\n",
    "9 10 11 12\n",
    "13 14 15 16"
   ]
  },
  {
   "cell_type": "code",
   "execution_count": 68,
   "metadata": {},
   "outputs": [
    {
     "name": "stdout",
     "output_type": "stream",
     "text": [
      "x before initialization:\n",
      "|    0    0    0    0    |\n",
      "|    0    0    0    0    |\n",
      "|    0    0    0    0    |\n",
      "|    0    0    0    0    |\n",
      "1 0 0 0\n",
      "0 1 0 1\n",
      "0 1 0 0\n",
      "0 0 1 0\n",
      "1 2 3 4\n",
      "5 6 7 8\n",
      "9 10 11 12\n",
      "13 14 15 16\n",
      "x after initialization:\n",
      "|    1    0    0    0    |\n",
      "|    0    1    0    1    |\n",
      "|    0    1    0    0    |\n",
      "|    0    0    1    0    |\n",
      "y after initialization:\n",
      "|    1    2    3    4    |\n",
      "|    5    6    7    8    |\n",
      "|    9   10   11   12    |\n",
      "|   13   14   15   16    |\n",
      "Transpose x is:\n",
      "|    1    0    0    0    |\n",
      "|    0    1    1    0    |\n",
      "|    0    0    0    1    |\n",
      "|    0    1    0    0    |\n",
      "Transpose y is:\n",
      "|    1    5    9   13    |\n",
      "|    2    6   10   14    |\n",
      "|    3    7   11   15    |\n",
      "|    4    8   12   16    |\n",
      "Transpose x+y is:\n",
      "|    2    5    9   13    |\n",
      "|    2    7   11   14    |\n",
      "|    3    7   11   16    |\n",
      "|    4    9   12   16    |\n",
      "x*y is:\n",
      "|    2    2    3    4    |\n",
      "|   18   21   23   25    |\n",
      "|    5    7    7    9    |\n",
      "|    9   11   11   12    |\n"
     ]
    }
   ],
   "source": [
    "m1 = Matrix()\n",
    "m2 = Matrix()\n",
    "\n",
    "print(\"x before initialization:\")\n",
    "m1.output()\n",
    "\n",
    "\n",
    "a, b = [], []\n",
    "for i in range(4):\n",
    "    a.append(list(map(int, input().split())))\n",
    "for i in range(4):\n",
    "    b.append(list(map(int, input().split())))\n",
    "\n",
    "print(\"x after initialization:\")\n",
    "m1.initialize(a)\n",
    "m1.output()\n",
    "print(\"y after initialization:\")\n",
    "m2.initialize(b)\n",
    "m2.output()\n",
    "print(\"Transpose x is:\")\n",
    "m1.trans().output()\n",
    "print(\"Transpose y is:\")\n",
    "m2.trans().output()\n",
    "print(\"Transpose x+y is:\")\n",
    "m1.plus(m2).trans().output()\n",
    "print(\"x*y is:\")\n",
    "m1.multiply(m2).output()\n"
   ]
  },
  {
   "cell_type": "code",
   "execution_count": null,
   "metadata": {},
   "outputs": [],
   "source": []
  }
 ],
 "metadata": {
  "kernelspec": {
   "display_name": "Python 3",
   "language": "python",
   "name": "python3"
  },
  "language_info": {
   "codemirror_mode": {
    "name": "ipython",
    "version": 3
   },
   "file_extension": ".py",
   "mimetype": "text/x-python",
   "name": "python",
   "nbconvert_exporter": "python",
   "pygments_lexer": "ipython3",
   "version": "3.7.4"
  }
 },
 "nbformat": 4,
 "nbformat_minor": 2
}
