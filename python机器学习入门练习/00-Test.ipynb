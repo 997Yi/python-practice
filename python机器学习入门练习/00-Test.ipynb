{
 "cells": [
  {
   "cell_type": "code",
   "execution_count": 2,
   "metadata": {},
   "outputs": [],
   "source": [
    "x = [1,2,3,4]\n",
    "y = [1,2,3,4]\n",
    "sum = []"
   ]
  },
  {
   "cell_type": "code",
   "execution_count": 4,
   "metadata": {},
   "outputs": [],
   "source": [
    "for x,y in zip(x,y):\n",
    "    sum.append(x+y)"
   ]
  },
  {
   "cell_type": "code",
   "execution_count": 5,
   "metadata": {},
   "outputs": [
    {
     "data": {
      "text/plain": [
       "[2, 4, 6, 8]"
      ]
     },
     "execution_count": 5,
     "metadata": {},
     "output_type": "execute_result"
    }
   ],
   "source": [
    "sum"
   ]
  },
  {
   "cell_type": "code",
   "execution_count": 2,
   "metadata": {},
   "outputs": [],
   "source": [
    "import numpy as np"
   ]
  },
  {
   "cell_type": "code",
   "execution_count": 6,
   "metadata": {},
   "outputs": [],
   "source": [
    "np.random.seed(666)\n",
    "x = 2 * np.random.random(size=100)\n",
    "y = x * 3. + 4. + np.random.normal(size=100)"
   ]
  },
  {
   "cell_type": "code",
   "execution_count": 7,
   "metadata": {},
   "outputs": [
    {
     "data": {
      "text/plain": [
       "array([1.40087424, 1.68837329, 1.35302867, 1.45571611, 1.90291591,\n",
       "       0.02540639, 0.8271754 , 0.09762559, 0.19985712, 1.01613261,\n",
       "       0.40049508, 1.48830834, 0.38578401, 1.4016895 , 0.58645621,\n",
       "       1.54895891, 0.01021768, 0.22571531, 0.22190734, 0.49533646,\n",
       "       0.0464726 , 1.45464231, 0.68006988, 0.39500631, 1.81835919,\n",
       "       1.95669397, 1.06560509, 0.5182637 , 1.16762524, 0.65138131,\n",
       "       1.77779863, 1.25280905, 1.63774738, 1.09469084, 0.83342401,\n",
       "       1.48609438, 0.73919276, 0.15033309, 1.55038596, 0.43881849,\n",
       "       0.15868425, 0.97356104, 0.3073478 , 1.65693027, 0.38273714,\n",
       "       0.54081791, 1.12206884, 1.80476078, 1.70357668, 0.83616392,\n",
       "       0.78695254, 0.03244103, 0.59842674, 0.70755644, 1.78700533,\n",
       "       1.57227314, 1.54277385, 0.84010971, 1.55205028, 0.92861629,\n",
       "       0.36354033, 1.76805121, 1.43758454, 1.3437626 , 0.51312727,\n",
       "       0.86160364, 0.03290715, 0.46998765, 1.02234262, 0.58401848,\n",
       "       1.00378702, 0.99654626, 0.20754305, 0.89288623, 1.93837834,\n",
       "       1.47694224, 1.43910122, 1.78608677, 1.92534936, 0.39410046,\n",
       "       1.42917993, 0.32384788, 1.73250954, 1.24764049, 1.91891025,\n",
       "       1.04828408, 0.07286576, 1.45374316, 0.00781969, 0.100588  ,\n",
       "       1.98398463, 0.424515  , 1.89474133, 0.9030811 , 1.99758935,\n",
       "       1.29500298, 1.40448142, 0.85916353, 0.33554952, 0.23626619])"
      ]
     },
     "execution_count": 7,
     "metadata": {},
     "output_type": "execute_result"
    }
   ],
   "source": [
    "x"
   ]
  },
  {
   "cell_type": "code",
   "execution_count": 8,
   "metadata": {},
   "outputs": [
    {
     "data": {
      "text/plain": [
       "array([ 8.91412688,  8.89446981,  8.85921604,  9.04490343,  8.75831915,\n",
       "        4.01914255,  6.84103696,  4.81582242,  3.68561238,  6.46344854,\n",
       "        4.61756153,  8.45774339,  3.21438541,  7.98486624,  4.18885101,\n",
       "        8.46060979,  4.29706975,  4.06803046,  3.58490782,  7.0558176 ,\n",
       "        4.04787249,  7.46699513,  7.17356576,  6.90706602, 10.06445574,\n",
       "       10.46043335,  6.56186893,  7.41768066,  6.63306338,  5.16962652,\n",
       "        8.92568927,  8.81142811,  8.27497363,  9.55931293,  8.31763691,\n",
       "        8.39594229,  6.46897919,  4.53407649,  9.01364797,  5.23131871,\n",
       "        5.35968048,  4.92858955,  4.86197655,  8.18778792,  3.53458796,\n",
       "        3.82545342,  7.06040408, 10.08420404, 10.5135845 ,  5.57993775,\n",
       "        6.63546582,  2.56719372,  6.94786703,  5.21927087,  9.54664436,\n",
       "        8.92205488,  9.1083202 ,  7.66433039,  8.04596666,  7.0692907 ,\n",
       "        6.52268065,  8.89229807, 11.53002966,  6.91636019,  4.88098465,\n",
       "        6.9583948 ,  2.97055168,  5.2614817 ,  5.8844378 ,  5.04227386,\n",
       "        4.25122982,  7.27271509,  5.71044451,  6.78615502,  9.60686078,\n",
       "        7.76422413,  7.66241623, 10.79248261,  9.42339386,  4.16563131,\n",
       "        8.90109862,  4.78925295,  9.51168702,  8.62159339,  9.32966334,\n",
       "        8.06523273,  5.25671307,  8.81165672,  6.08431894,  4.74245033,\n",
       "        8.29671129,  6.90839908, 10.42354245,  5.65267702, 10.16017935,\n",
       "        9.02635276,  6.94102685,  6.27077412,  6.77410495,  3.92117584])"
      ]
     },
     "execution_count": 8,
     "metadata": {},
     "output_type": "execute_result"
    }
   ],
   "source": [
    "y"
   ]
  },
  {
   "cell_type": "code",
   "execution_count": 10,
   "metadata": {},
   "outputs": [],
   "source": [
    "zero = np.zeros(2)"
   ]
  },
  {
   "cell_type": "code",
   "execution_count": 14,
   "metadata": {},
   "outputs": [
    {
     "data": {
      "text/plain": [
       "array([0., 0.])"
      ]
     },
     "execution_count": 14,
     "metadata": {},
     "output_type": "execute_result"
    }
   ],
   "source": [
    "zero"
   ]
  },
  {
   "cell_type": "code",
   "execution_count": 17,
   "metadata": {},
   "outputs": [
    {
     "data": {
      "text/plain": [
       "(100,)"
      ]
     },
     "execution_count": 17,
     "metadata": {},
     "output_type": "execute_result"
    }
   ],
   "source": [
    "x.shape"
   ]
  },
  {
   "cell_type": "code",
   "execution_count": 18,
   "metadata": {},
   "outputs": [
    {
     "data": {
      "text/plain": [
       "(100,)"
      ]
     },
     "execution_count": 18,
     "metadata": {},
     "output_type": "execute_result"
    }
   ],
   "source": [
    "y.shape"
   ]
  },
  {
   "cell_type": "code",
   "execution_count": 21,
   "metadata": {},
   "outputs": [],
   "source": [
    "xb = np.hstack([np.ones((len(x),1)),x.reshape(-1,1)])"
   ]
  },
  {
   "cell_type": "code",
   "execution_count": 23,
   "metadata": {},
   "outputs": [
    {
     "data": {
      "text/plain": [
       "(100, 2)"
      ]
     },
     "execution_count": 23,
     "metadata": {},
     "output_type": "execute_result"
    }
   ],
   "source": [
    "xb.shape"
   ]
  },
  {
   "cell_type": "code",
   "execution_count": 33,
   "metadata": {},
   "outputs": [],
   "source": [
    "theta = np.zeros(xb.shape[1])"
   ]
  },
  {
   "cell_type": "code",
   "execution_count": 34,
   "metadata": {},
   "outputs": [
    {
     "data": {
      "text/plain": [
       "(2,)"
      ]
     },
     "execution_count": 34,
     "metadata": {},
     "output_type": "execute_result"
    }
   ],
   "source": [
    "theta.shape"
   ]
  },
  {
   "cell_type": "code",
   "execution_count": 28,
   "metadata": {},
   "outputs": [],
   "source": [
    "_y = xb.dot(theta)"
   ]
  },
  {
   "cell_type": "code",
   "execution_count": 30,
   "metadata": {},
   "outputs": [
    {
     "data": {
      "text/plain": [
       "(100,)"
      ]
     },
     "execution_count": 30,
     "metadata": {},
     "output_type": "execute_result"
    }
   ],
   "source": [
    "_y.shape"
   ]
  },
  {
   "cell_type": "code",
   "execution_count": 37,
   "metadata": {},
   "outputs": [],
   "source": [
    "_=(_y-y).dot(xb[:,1])"
   ]
  },
  {
   "cell_type": "code",
   "execution_count": 38,
   "metadata": {},
   "outputs": [
    {
     "data": {
      "text/plain": [
       "-797.683929083539"
      ]
     },
     "execution_count": 38,
     "metadata": {},
     "output_type": "execute_result"
    }
   ],
   "source": [
    "_"
   ]
  },
  {
   "cell_type": "code",
   "execution_count": 4,
   "metadata": {},
   "outputs": [
    {
     "data": {
      "text/plain": [
       "array([[ 0.89949874,  0.2095079 ,  0.19614208, -1.02219381, -0.04587743,\n",
       "        -0.03923919, -1.18555138,  2.26675891,  0.22018385,  0.41204793],\n",
       "       [ 1.05997967, -0.51872748, -0.16493593, -0.37396014,  0.11775971,\n",
       "        -0.86815014,  1.40741631,  0.81043262,  0.0347856 ,  0.49424229],\n",
       "       [-1.00306701,  0.0209649 , -1.05201056,  1.10080357, -0.45352959,\n",
       "        -0.63377648, -0.29254933, -1.81538881,  0.21495324,  1.54284126],\n",
       "       [-0.64687528, -1.34600622,  1.47612463,  0.31662004, -0.75420516,\n",
       "         0.32142156,  1.33109102, -0.068138  , -0.38601144,  2.21363792],\n",
       "       [ 0.37790937,  0.45552727,  0.59969463, -1.87378288,  0.17462133,\n",
       "         0.35906094,  1.35860261, -0.89422143, -2.18709164,  0.12871525],\n",
       "       [-1.82076185,  0.80629927, -0.12181339, -0.09968967,  1.36584605,\n",
       "         0.00597479,  1.08999711, -0.70243213, -0.26821217, -1.33410316],\n",
       "       [-1.30000423,  1.06031449, -1.58191586,  0.19026865, -0.27046322,\n",
       "        -0.32207119, -0.86510227, -2.27054051,  0.91810781, -1.39888929],\n",
       "       [ 0.81102316, -0.68819643, -0.03740795, -1.05799954, -0.67480348,\n",
       "        -0.42433012,  0.53074468,  0.97354336, -0.06817465, -0.3863342 ],\n",
       "       [-1.39868659,  0.68577986,  0.04662477, -0.70529884, -0.00864579,\n",
       "         2.06504139,  0.28162222, -0.59727222, -0.12936835,  1.27819706],\n",
       "       [-0.00585812, -0.02575018,  1.50491673,  1.46317019,  1.99104476,\n",
       "         0.4567096 , -0.62267568, -0.75564954, -0.08779765, -1.39016274]])"
      ]
     },
     "execution_count": 4,
     "metadata": {},
     "output_type": "execute_result"
    }
   ],
   "source": [
    "n = 10\n",
    "m = 10\n",
    "np.random.normal(size=(m,n))"
   ]
  },
  {
   "cell_type": "code",
   "execution_count": 7,
   "metadata": {},
   "outputs": [
    {
     "data": {
      "text/plain": [
       "array([46.08594927, 29.17400954, 92.47941674, 28.01300552,  6.23431888,\n",
       "       14.54783034, 10.20236375,  4.38478308, 42.96416957, 77.29210356,\n",
       "       38.06589674])"
      ]
     },
     "execution_count": 7,
     "metadata": {},
     "output_type": "execute_result"
    }
   ],
   "source": [
    "np.random.uniform(0.0, 100.0, size=n+1)"
   ]
  },
  {
   "cell_type": "code",
   "execution_count": null,
   "metadata": {},
   "outputs": [],
   "source": []
  },
  {
   "cell_type": "code",
   "execution_count": null,
   "metadata": {},
   "outputs": [],
   "source": []
  }
 ],
 "metadata": {
  "kernelspec": {
   "display_name": "Python 3",
   "language": "python",
   "name": "python3"
  },
  "language_info": {
   "codemirror_mode": {
    "name": "ipython",
    "version": 3
   },
   "file_extension": ".py",
   "mimetype": "text/x-python",
   "name": "python",
   "nbconvert_exporter": "python",
   "pygments_lexer": "ipython3",
   "version": "3.7.4"
  }
 },
 "nbformat": 4,
 "nbformat_minor": 2
}
