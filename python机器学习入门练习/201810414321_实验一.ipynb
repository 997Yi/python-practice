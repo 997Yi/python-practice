{
 "cells": [
  {
   "cell_type": "markdown",
   "metadata": {},
   "source": [
    "# 编程实战1：编写高质量代码\n"
   ]
  },
  {
   "cell_type": "markdown",
   "metadata": {},
   "source": [
    "## 实验目的"
   ]
  },
  {
   "cell_type": "markdown",
   "metadata": {},
   "source": [
    "(1)了解常见逻辑覆盖问题;\n",
    "(2)了解编码规范\n",
    "(3)养成高质量代码编写习惯"
   ]
  },
  {
   "cell_type": "markdown",
   "metadata": {},
   "source": [
    "## 实验要求："
   ]
  },
  {
   "cell_type": "markdown",
   "metadata": {},
   "source": [
    "\n",
    "（1）编码规范\n",
    "（2）代码高效\n",
    "（3）注释充分，程序可读性好\n",
    "（4）程序无bug"
   ]
  },
  {
   "cell_type": "markdown",
   "metadata": {},
   "source": [
    "## 实验步骤"
   ]
  },
  {
   "cell_type": "markdown",
   "metadata": {},
   "source": [
    "# 1.常见逻辑覆盖问题"
   ]
  },
  {
   "cell_type": "markdown",
   "metadata": {},
   "source": [
    "问题1：输入PM2.5指数，根据指数值输出空气质量等级。\n"
   ]
  },
  {
   "attachments": {
    "pm25.png": {
     "image/png": "[encoded data removed]"
    }
   },
   "cell_type": "markdown",
   "metadata": {},
   "source": [
    "![pm25.png](attachment:pm25.png)"
   ]
  },
  {
   "cell_type": "code",
   "execution_count": 3,
   "metadata": {},
   "outputs": [
    {
     "name": "stdout",
     "output_type": "stream",
     "text": [
      "dscc\n",
      "无效数据，请重新输入！\n"
     ]
    }
   ],
   "source": [
    "# -*- coding: utf-8 -*-\n",
    "try:\n",
    "        # 如果输入不是整数则抛出异常\n",
    "        num = eval(input())\n",
    "        # 输入小于0则输出非法输入\n",
    "        if num < 0:\n",
    "                result = \"无效数据，请重新输入！\"\n",
    "        # 空气污染指数小于等于35输出优\n",
    "        elif num <= 35:\n",
    "                result = \"优\"\n",
    "        # 空气污染指数小于等于75输出良\n",
    "        elif num <= 75:\n",
    "                result = \"良\"\n",
    "        # 空气污染指数小于等于115输出轻度污染\n",
    "        elif num <= 115:\n",
    "                result = \"轻度污染\"\n",
    "        # 空气污染指数小于等于150输出中度污染\n",
    "        elif num <= 150:\n",
    "                result = \"中度污染\"\n",
    "        # 空气污染指数小于等于250输出重度污染\n",
    "        elif num <= 250:\n",
    "                result = \"重度污染\"\n",
    "        # 空气污染指数小于等于500输入严重污染\n",
    "        elif num <= 500:\n",
    "                result = \"严重污染\"\n",
    "        # 空气污染指数大于500\n",
    "        else:\n",
    "                result = \"无效数据，请重新输入！\"\n",
    "\n",
    "except:\n",
    "        result = \"无效数据，请重新输入！\"\n",
    "finally:\n",
    "        print(result)"
   ]
  },
  {
   "cell_type": "markdown",
   "metadata": {},
   "source": [
    "# 2.程序效率"
   ]
  },
  {
   "cell_type": "markdown",
   "metadata": {},
   "source": [
    "问题2：写一个函数计算S的值（n很大），S=1-2+3-4+5-6+7+......+n"
   ]
  },
  {
   "cell_type": "code",
   "execution_count": 35,
   "metadata": {},
   "outputs": [
    {
     "name": "stdout",
     "output_type": "stream",
     "text": [
      "18264946294921\n",
      "9132473147461\n"
     ]
    }
   ],
   "source": [
    "#code\n",
    "try:\n",
    "    # 如果输入不是整数则抛出异常\n",
    "    num = int(input())\n",
    "    \n",
    "    if num <= 0:\n",
    "        result = \"无效数据，请重新输入！\"\n",
    "    else:\n",
    "        result = -(num // 2)\n",
    "        # 判断为奇数\n",
    "        if num % 2 == 1:\n",
    "            result += num\n",
    "except:    \n",
    "    result = \"无效数据，请重新输入！\"\n",
    "finally:\n",
    "    print(result)"
   ]
  },
  {
   "cell_type": "markdown",
   "metadata": {},
   "source": [
    "# 3.程序效率"
   ]
  },
  {
   "cell_type": "markdown",
   "metadata": {},
   "source": [
    "问题3：我国古代数学家张丘建在《算经》一书中曾提出过著名的“百钱买百鸡”问题，该问题叙述如下：鸡翁一，值钱五；鸡母一，值钱三；鸡雏三，值钱一；百钱买百鸡，则翁、母、雏各几何？"
   ]
  },
  {
   "cell_type": "code",
   "execution_count": 5,
   "metadata": {},
   "outputs": [
    {
     "name": "stdout",
     "output_type": "stream",
     "text": [
      "可能的买法：\n",
      "鸡翁： 0 只，鸡母： 25 只，鸡雏： 75 只\n",
      "鸡翁： 4 只，鸡母： 18 只，鸡雏： 78 只\n",
      "鸡翁： 8 只，鸡母： 11 只，鸡雏： 81 只\n",
      "鸡翁： 12 只，鸡母： 4 只，鸡雏： 84 只\n",
      "总共有 4 种买法\n"
     ]
    }
   ],
   "source": [
    "# 总共买法的数量\n",
    "count = 0\n",
    "\n",
    "print(\"可能的买法：\")\n",
    "# 鸡翁可能买0-20只\n",
    "for x in range(21):\n",
    "    # 鸡母可能买0-33只\n",
    "    for y in range(34):\n",
    "        # 鸡雏的数量为100减去鸡翁和鸡母的数量\n",
    "        z = 100 - x - y\n",
    "        \n",
    "        #判断总价格是否为100\n",
    "        if 5 * x + 3 * y + z / 3 == 100:\n",
    "            count += 1\n",
    "            print(\"鸡翁：\", x, \"只，鸡母：\", y, \"只，鸡雏：\", z,  \"只\")\n",
    "\n",
    "print(\"总共有\", count, \"种买法\")"
   ]
  },
  {
   "cell_type": "markdown",
   "metadata": {},
   "source": [
    "枚举法（穷举法）\n",
    "程序时间复杂度优化\n",
    "a.减少循环嵌套层数\n",
    "b.减少循环长度"
   ]
  },
  {
   "cell_type": "markdown",
   "metadata": {},
   "source": [
    "问题4：求N以内的素数和，要求用函数实现素数的判断；"
   ]
  },
  {
   "cell_type": "code",
   "execution_count": 13,
   "metadata": {
    "scrolled": true
   },
   "outputs": [
    {
     "name": "stdout",
     "output_type": "stream",
     "text": [
      "请输入N：11\n",
      "28\n"
     ]
    }
   ],
   "source": [
    "def isPrimeNum(N):\n",
    "    for j in range(2, i//2 + 1):\n",
    "        # 如果i能被一个数整除，则他不是素数\n",
    "        if i % j == 0:\n",
    "            return False\n",
    "    return True\n",
    "        \n",
    "try:\n",
    "    n = int(input(\"请输入N：\"))\n",
    "    if n <= 1:\n",
    "        result = \"无效数据，请重新输入！\"\n",
    "    else:\n",
    "        # 结果\n",
    "        result = 2\n",
    "\n",
    "        for i in range(3, n + 1, 2):\n",
    "            if isPrimeNum(i):\n",
    "                result += i\n",
    "except:    \n",
    "    result = \"无效数据，请重新输入！\"\n",
    "finally:\n",
    "    print(result)"
   ]
  }
 ],
 "metadata": {
  "kernelspec": {
   "display_name": "Python 3",
   "language": "python",
   "name": "python3"
  },
  "language_info": {
   "codemirror_mode": {
    "name": "ipython",
    "version": 3
   },
   "file_extension": ".py",
   "mimetype": "text/x-python",
   "name": "python",
   "nbconvert_exporter": "python",
   "pygments_lexer": "ipython3",
   "version": "3.7.4"
  }
 },
 "nbformat": 4,
 "nbformat_minor": 2
}
