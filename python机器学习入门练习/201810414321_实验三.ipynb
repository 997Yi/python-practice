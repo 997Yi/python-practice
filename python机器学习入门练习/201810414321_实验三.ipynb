{
 "cells": [
  {
   "cell_type": "markdown",
   "metadata": {},
   "source": [
    "# 实验三：有约束的极值求解\n"
   ]
  },
  {
   "cell_type": "markdown",
   "metadata": {},
   "source": [
    "## 实验目的"
   ]
  },
  {
   "cell_type": "markdown",
   "metadata": {},
   "source": [
    "1. 通过排课问题理解非线性规划问题;\n",
    "2. 熟悉有约束的极值求解方法；\n",
    "3. 了解排课算法优化算法；\n",
    "4. 熟悉list,dataFrame等数据结构\n",
    "5. 养成高质量代码编写习惯。"
   ]
  },
  {
   "cell_type": "markdown",
   "metadata": {},
   "source": [
    "## 实验要求："
   ]
  },
  {
   "cell_type": "markdown",
   "metadata": {},
   "source": [
    "1. 编码规范\n",
    "2. 代码高效\n",
    "3. 注释充分，程序可读性好\n",
    "4. 程序无bug\n",
    "5. 方法接口规范定义"
   ]
  },
  {
   "cell_type": "markdown",
   "metadata": {},
   "source": [
    "## 实验内容"
   ]
  },
  {
   "cell_type": "markdown",
   "metadata": {},
   "source": [
    "根据以下约束和排班原则进行排课算法设计\n",
    "1. 同一个任课教师在一个教学时间段只能进行一门课程教学\n",
    "2. 同一个班级在一个教学时间段只能进行一门课程教学\n",
    "3. 同一个教室在一个教学时间段只能进行一门课程教学\n",
    "4. 排课教室必须满足学生人数要求\n",
    "5. 一个教师每天不能超过6节课\n",
    "6. 每个学生班级每天不能超过8节课\n",
    "7. 每个教学班同一门课程每天不能超过2节课\n"
   ]
  },
  {
   "cell_type": "markdown",
   "metadata": {},
   "source": [
    "## 实验步骤"
   ]
  },
  {
   "cell_type": "markdown",
   "metadata": {},
   "source": [
    "## 1.算法设计"
   ]
  },
  {
   "cell_type": "markdown",
   "metadata": {},
   "source": [
    "数据结构\n",
    "![数据结构](实验三数据结构.png)"
   ]
  },
  {
   "cell_type": "markdown",
   "metadata": {},
   "source": [
    "算法流程\n",
    "![算法流程](实验三算法流程.png)"
   ]
  },
  {
   "cell_type": "markdown",
   "metadata": {},
   "source": [
    "### 2.数据与处理"
   ]
  },
  {
   "cell_type": "markdown",
   "metadata": {},
   "source": [
    "对教学任务信息，教室信息，教师信息，教学班级信息进行处理，组织排课算法需要的各数据和排课结果表，并对相关变量进行初始化\n",
    "\n"
   ]
  },
  {
   "cell_type": "markdown",
   "metadata": {},
   "source": [
    "定义需要的数据结构"
   ]
  },
  {
   "cell_type": "code",
   "execution_count": 1,
   "metadata": {},
   "outputs": [],
   "source": [
    "# 上课时间列表\n",
    "schoolTime = [[\"第一大节\", [\"第01节课\", \"08:30-09:15\"], [\"第02节课\", \"09:20-10:05\"]], \n",
    "              [\"第二大节\", [\"第03节课\", \"10:25-11:10\"], [\"第04节课\", \"11:15-12:00\"]], \n",
    "              [\"第三大节\", [\"第05节课\", \"14:00-14:45\"], [\"第06节课\", \"14:50-15:35\"]], \n",
    "              [\"第四大节\", [\"第07节课\", \"15:55-16:40\"], [\"第08节课\", \"16:45-17:30\"]], \n",
    "              [\"第五大节\", [\"第09节课\", \"18:30-19:15\"], [\"第010节课\", \"19:20-10:05\"]]]\n",
    "week = ['周一','周二','周三','周四','周五','周六','周日']\n",
    "# 班级信息类\n",
    "class ClassInfo:\n",
    "    def __init__(self, name, stuNum):\n",
    "        self.name = name\n",
    "        self.stuNum = stuNum  \n",
    "    def __str__(self):\n",
    "        return self.name\n",
    "# 教师类\n",
    "class Teacher:\n",
    "    def __init__(self, name):\n",
    "        self.name = name\n",
    "    def __str__(self):\n",
    "        return self.name\n",
    "# 课程类\n",
    "class Course:\n",
    "    def __init__(self, id, name, weekTime, total, classInfo, teacher, weekOfStartStop):\n",
    "        self.id = id\n",
    "        self.name = name\n",
    "        self.weekTime = weekTime\n",
    "        self.total = total\n",
    "        self.classInfo = classInfo\n",
    "        self.teacher = teacher\n",
    "        self.weekOfStartStop = weekOfStartStop\n",
    "    def __str__(self):\n",
    "        return str(self.name)+\" \"+str(self.weekOfStartStop)+\"周\"\n",
    "# 教室类\n",
    "class Classroom:\n",
    "    def __init__(self, id, type, contain):\n",
    "        self.id = id\n",
    "        self.type = type\n",
    "        self.contain = contain\n",
    "    def __str__(self):\n",
    "        return str(self.id)\n",
    "# 排课安排类\n",
    "class Arrange:\n",
    "    def __init__(self, course, classroom, schoolTime):\n",
    "        self.course = course\n",
    "        self.classroom = classroom\n",
    "        self.schoolTime = schoolTime\n",
    "    def __str__(self):\n",
    "        return str(self.course)+\" \"+str(self.classroom)"
   ]
  },
  {
   "cell_type": "markdown",
   "metadata": {},
   "source": [
    "导入所需要的包"
   ]
  },
  {
   "cell_type": "code",
   "execution_count": 2,
   "metadata": {},
   "outputs": [],
   "source": [
    "import pandas as pd\n",
    "import numpy as np"
   ]
  },
  {
   "cell_type": "markdown",
   "metadata": {},
   "source": [
    "从excel表中读取数据"
   ]
  },
  {
   "cell_type": "code",
   "execution_count": 3,
   "metadata": {},
   "outputs": [],
   "source": [
    "# 开课任务数据\n",
    "data1 = pd.read_excel(\"实验三数据.xlsx\",0)\n",
    "# 教室信息数据\n",
    "data2 = pd.read_excel(\"实验三数据.xlsx\",1)"
   ]
  },
  {
   "cell_type": "markdown",
   "metadata": {},
   "source": [
    "数据封装"
   ]
  },
  {
   "cell_type": "code",
   "execution_count": 4,
   "metadata": {},
   "outputs": [],
   "source": [
    "# 课程列表\n",
    "courseList = []\n",
    "# 教室列表\n",
    "classroomList = []\n",
    "# 排课安排列表，dataFrame,每周7天每天5节大课\n",
    "arrangeList = [[],[],[],[],[],[],[],\n",
    "              [],[],[],[],[],[],[],\n",
    "              [],[],[],[],[],[],[],\n",
    "              [],[],[],[],[],[],[],\n",
    "              [],[],[],[],[],[],[]]\n",
    "'''\n",
    "班级信息的获取\n",
    "ClassInfo(data1.loc[0][20]+\"、\"+data1.loc[0][20], data1.loc[0][19]+data1.loc[0][19])\n",
    "教师信息的获取\n",
    "Teacher(data1.loc[0][22])\n",
    "课程信息的获取\n",
    "Course(data1.loc[0][0], data1.loc[0][1], data1.loc[0][3], data1.loc[0][5], ClassInfo, Teacher, data1.loc[0][4])\n",
    "教室信息的获取\n",
    "Classroom(data2.loc[0][0], data2.loc[0][1], data2.loc[0][2])\n",
    "'''\n",
    "for i in range(0, len(data1),2):\n",
    "    courseList.append(Course(data1.loc[i][0], data1.loc[i][1], data1.loc[i][3], data1.loc[i][5],\\\n",
    "                             ClassInfo(data1.loc[i][20]+\"、\"+data1.loc[i+1][20], data1.loc[i][19]+data1.loc[i+1][19]), \\\n",
    "                             Teacher(data1.loc[i][22]), data1.loc[0][4]))\n",
    "for i in range(len(data2)):\n",
    "    classroomList.append(Classroom(data2.loc[i][0], data2.loc[i][1], data2.loc[i][2]))"
   ]
  },
  {
   "cell_type": "markdown",
   "metadata": {},
   "source": [
    "### 3.算法实现"
   ]
  },
  {
   "cell_type": "markdown",
   "metadata": {},
   "source": [
    "按照最短教学时间原则进行排课"
   ]
  },
  {
   "cell_type": "markdown",
   "metadata": {},
   "source": [
    "#### 判断是否可以排课"
   ]
  },
  {
   "cell_type": "markdown",
   "metadata": {},
   "source": [
    "> 今天该班级是否安排过该课程"
   ]
  },
  {
   "cell_type": "code",
   "execution_count": 5,
   "metadata": {},
   "outputs": [],
   "source": [
    "def func1(course, weekday):\n",
    "    for i in range(weekday,35,7):\n",
    "        for j in arrangeList[i]:\n",
    "            if j.course.name == course.name:\n",
    "                if j.course.classInfo.name == course.classInfo.name:\n",
    "                    return False\n",
    "    return True\n",
    "    pass"
   ]
  },
  {
   "cell_type": "markdown",
   "metadata": {},
   "source": [
    "> 该老师当前是否有课程"
   ]
  },
  {
   "cell_type": "code",
   "execution_count": 6,
   "metadata": {},
   "outputs": [],
   "source": [
    "def func2(course, i):\n",
    "    for j in arrangeList[i]:\n",
    "        if j.course.teacher.name == course.teacher.name:\n",
    "            return False\n",
    "    return True\n",
    "    pass"
   ]
  },
  {
   "cell_type": "markdown",
   "metadata": {},
   "source": [
    "> 该班级当前是否有课程"
   ]
  },
  {
   "cell_type": "code",
   "execution_count": 7,
   "metadata": {},
   "outputs": [],
   "source": [
    "def func3(course, i):\n",
    "    for j in arrangeList[i]:\n",
    "        if j.course.classInfo.name == course.classInfo.name:\n",
    "            return False\n",
    "    return True\n",
    "    pass"
   ]
  },
  {
   "cell_type": "markdown",
   "metadata": {},
   "source": [
    "> 该教室当前是否有课程(若当前教室的当前时间有课程，则换一个教室继续判断)"
   ]
  },
  {
   "cell_type": "code",
   "execution_count": 8,
   "metadata": {},
   "outputs": [],
   "source": [
    "def func4(classroom, i):\n",
    "    for j in arrangeList[i]:\n",
    "        if j.classroom.id == classroom.id:\n",
    "            return False\n",
    "    return True\n",
    "    pass"
   ]
  },
  {
   "cell_type": "markdown",
   "metadata": {},
   "source": [
    "> 该教室座位是否足够"
   ]
  },
  {
   "cell_type": "code",
   "execution_count": 9,
   "metadata": {},
   "outputs": [],
   "source": [
    "def func5(course, classroom):\n",
    "    if course.classInfo.stuNum <= classroom.contain:\n",
    "        return True\n",
    "    else:\n",
    "        return False\n",
    "    pass"
   ]
  },
  {
   "cell_type": "markdown",
   "metadata": {},
   "source": [
    "> 该老师今天课程是否超过六节"
   ]
  },
  {
   "cell_type": "code",
   "execution_count": 10,
   "metadata": {},
   "outputs": [],
   "source": [
    "def func6(course, weekday):\n",
    "    #记录老师今天的课程数\n",
    "    num = 0\n",
    "    \n",
    "    for i in range(weekday,35,7):\n",
    "        for j in arrangeList[i]:\n",
    "            if j.course.teacher.name == course.teacher.name:\n",
    "                num += 1\n",
    "    if num >= 3:\n",
    "        return False\n",
    "    else:\n",
    "        return True\n",
    "    pass"
   ]
  },
  {
   "cell_type": "markdown",
   "metadata": {},
   "source": [
    "> 该班级今天课程是否超过八节"
   ]
  },
  {
   "cell_type": "code",
   "execution_count": 11,
   "metadata": {},
   "outputs": [],
   "source": [
    "def func7(course, weekday):\n",
    "    #记录班级今天的课程数\n",
    "    num = 0\n",
    "    \n",
    "    for i in range(weekday,35,7):\n",
    "        for j in arrangeList[i]:\n",
    "            if j.course.classInfo.name == course.classInfo.name:\n",
    "                num += 1\n",
    "    if num >= 4:\n",
    "        return False\n",
    "    else:\n",
    "        return True\n",
    "    pass"
   ]
  },
  {
   "cell_type": "markdown",
   "metadata": {},
   "source": [
    "#### 安排课程"
   ]
  },
  {
   "cell_type": "code",
   "execution_count": 12,
   "metadata": {},
   "outputs": [],
   "source": [
    "def arrangeCourse(course):\n",
    "    for classroom in classroomList:\n",
    "        for i in range(35):\n",
    "            if func1(course, i % 7):\n",
    "                if func2(course, i):\n",
    "                    if func3(course, i):\n",
    "                        if func4(classroom, i):\n",
    "                            if func5(course, classroom):\n",
    "                                if func6(course, i % 7):\n",
    "                                    if func7(course, i % 7):\n",
    "                                        arrangeList[i].append(Arrange(course, classroom, i+1))\n",
    "                                        return\n",
    "\n",
    "for course in courseList:\n",
    "    for i in range(course.weekTime // 2):\n",
    "        arrangeCourse(course)"
   ]
  },
  {
   "cell_type": "code",
   "execution_count": 13,
   "metadata": {},
   "outputs": [
    {
     "name": "stdout",
     "output_type": "stream",
     "text": [
      "Linux程序设计 01-16周 10201\n",
      "面向对象程序设计 01-16周 10202\n",
      "数据库原理 01-16周 10203\n",
      "Linux程序设计 01-16周 10201\n",
      "高等数学A+（2） 01-16周 10202\n",
      "用户体验设计 01-16周 10203\n",
      "Linux程序设计 01-16周 10201\n",
      "高等数学A+（2） 01-16周 10202\n",
      "用户体验设计 01-16周 10203\n",
      "Linux程序设计 01-16周 10201\n",
      "高等数学A+（2） 01-16周 10202\n",
      "面向对象程序设计 01-16周 10203\n",
      "IT新技术 01-16周 10201\n",
      "高等数学A+（2） 01-16周 10202\n",
      "面向对象程序设计 01-16周 10203\n",
      "IT新技术 01-16周 10201\n",
      "高等数学A+（2） 01-16周 10202\n",
      "三维建模技术（1） 01-16周 10203\n",
      "IT新技术 01-16周 10201\n",
      "高等数学A+（2） 01-16周 10202\n",
      "三维建模技术（1） 01-16周 10203\n",
      "IT新技术 01-16周 10201\n",
      "大学物理B 01-16周 10202\n",
      "J2EE常用框架技术 01-16周 10201\n",
      "大学物理B 01-16周 10202\n",
      "J2EE常用框架技术 01-16周 10201\n",
      "大学物理B 01-16周 10202\n",
      "J2EE常用框架技术 01-16周 10201\n",
      "大学物理B 01-16周 10202\n",
      "J2EE常用框架技术 01-16周 10201\n",
      "C语言课程设计 01-16周 10202\n",
      "软件系统分析与设计技术 01-16周 10201\n",
      "C语言课程设计 01-16周 10202\n",
      "软件系统分析与设计技术 01-16周 10201\n",
      "C语言课程设计 01-16周 10202\n",
      "软件系统分析与设计技术 01-16周 10201\n",
      "C语言课程设计 01-16周 10202\n",
      "软件系统分析与设计技术 01-16周 10201\n",
      "大学物理A（1） 01-16周 10202\n",
      "移动开发技术 01-16周 10201\n",
      "大学物理A（1） 01-16周 10202\n",
      "移动开发技术 01-16周 10201\n",
      "数字媒体美术基础 01-16周 10202\n",
      "移动开发技术 01-16周 10201\n",
      "数字媒体美术基础 01-16周 10202\n",
      "移动开发技术 01-16周 10201\n",
      "高等数学A（2) 01-16周 10202\n",
      "软件工程经济学 01-16周 10201\n",
      "高等数学A（2) 01-16周 10202\n",
      "软件工程经济学 01-16周 10201\n",
      "高等数学A（2) 01-16周 10202\n",
      "数字摄影与摄像 01-16周 10201\n",
      "C语言课程设计 01-16周 10202\n",
      "数字摄影与摄像 01-16周 10201\n",
      "C语言课程设计 01-16周 10202\n",
      "虚拟现实 01-16周 10201\n",
      "操作系统原理 01-16周 10202\n",
      "虚拟现实 01-16周 10201\n",
      "操作系统原理 01-16周 10202\n",
      "三维动画制作 01-16周 10201\n",
      "操作系统原理 01-16周 10202\n",
      "三维动画制作 01-16周 10201\n",
      "操作系统原理 01-16周 10202\n",
      "数字媒体综合案例制作 01-16周 10201\n",
      "离散数学 01-16周 10202\n",
      "数字媒体综合案例制作 01-16周 10201\n",
      "离散数学 01-16周 10202\n",
      "IT新技术 01-16周 10201\n",
      "离散数学 01-16周 10202\n",
      "IT新技术 01-16周 10201\n",
      "离散数学 01-16周 10202\n",
      "面向对象程序设计 01-16周 10201\n",
      "数据库原理 01-16周 10202\n",
      "面向对象程序设计 01-16周 10201\n",
      "数据库原理 01-16周 10202\n",
      "面向对象程序设计 01-16周 10201\n",
      "数据库原理 01-16周 10202\n"
     ]
    }
   ],
   "source": [
    "for i in range(35):\n",
    "    for arrange in arrangeList[i]:\n",
    "        print(str(arrange))"
   ]
  },
  {
   "cell_type": "markdown",
   "metadata": {},
   "source": [
    "### 4.算法优化"
   ]
  },
  {
   "cell_type": "markdown",
   "metadata": {},
   "source": [
    "本部分为选做：\n",
    "1. 可以使用蚁群算法等对排课算法进行优化，得到更优的排课方案；\n",
    "2. 合理设计算法模块，使程序支持多种排课原则，比如按最短教学时间优先\n",
    "3. 课程任务分布均匀优先\n",
    "4. 教师要求优先"
   ]
  },
  {
   "cell_type": "code",
   "execution_count": 14,
   "metadata": {},
   "outputs": [],
   "source": [
    "#code"
   ]
  },
  {
   "cell_type": "markdown",
   "metadata": {},
   "source": [
    "### 5.结果输出"
   ]
  },
  {
   "cell_type": "markdown",
   "metadata": {},
   "source": [
    "1. 教师课表\n",
    "2. 学生班级课表\n",
    "3. 教室课表"
   ]
  },
  {
   "cell_type": "markdown",
   "metadata": {},
   "source": [
    "df = pd.DataFrame(columns=('周一','周二','周三','周四','周五','周六','周日'))"
   ]
  },
  {
   "cell_type": "markdown",
   "metadata": {},
   "source": [
    "#### 教师课表"
   ]
  },
  {
   "cell_type": "code",
   "execution_count": 30,
   "metadata": {},
   "outputs": [],
   "source": [
    "def teacherTable(teacher):\n",
    "    df = pd.DataFrame(columns=week)\n",
    "    tmp = [\"\", \"\", \"\", \"\", \"\", \"\", \"\"]\n",
    "    for i in range(35):\n",
    "        for arrange in arrangeList[i]:\n",
    "            if arrange.course.teacher.name == teacher.name:\n",
    "                tmp[i%7] = str(arrange)+\" \"+ str(arrange.course.teacher)+\" \"+str(arrange.course.classInfo.name)+\" \"+str(arrange.classroom)\n",
    "                break\n",
    "        if i%7 == 6:\n",
    "            df.loc[schoolTime[i//7][0]] = tmp\n",
    "            tmp = [\"\", \"\", \"\", \"\", \"\", \"\", \"\"]\n",
    "    return df"
   ]
  },
  {
   "cell_type": "code",
   "execution_count": 32,
   "metadata": {},
   "outputs": [
    {
     "name": "stdout",
     "output_type": "stream",
     "text": [
      "['Linux程序设计 01-16周 10201 黄荣兵 软件(本)17-1、软件(本)17-2 10201', 'Linux程序设计 01-16周 10201 黄荣兵 软件(本)17-1、软件(本)17-2 10201', 'Linux程序设计 01-16周 10201 黄荣兵 软件(本)17-3、软件(本)17-4 10201', 'Linux程序设计 01-16周 10201 黄荣兵 软件(本)17-3、软件(本)17-4 10201', '', '', '']\n",
      "['', '', '', '', '', '', '']\n",
      "['', '', '', '', '', '', '']\n",
      "['', '', '', '', '', '', '']\n",
      "['', '', '', '', '数据库原理 01-16周 10202 黄荣兵 软件(本)18-1、软件(本)18-2 10202', '数据库原理 01-16周 10202 黄荣兵 软件(本)18-1、软件(本)18-2 10202', '']\n",
      "                                                     周一  \\\n",
      "第一大节  Linux程序设计 01-16周 10201 黄荣兵 软件(本)17-1、软件(本)17-2...   \n",
      "第二大节                                                      \n",
      "第三大节                                                      \n",
      "第四大节                                                      \n",
      "第五大节                                                      \n",
      "\n",
      "                                                     周二  \\\n",
      "第一大节  Linux程序设计 01-16周 10201 黄荣兵 软件(本)17-1、软件(本)17-2...   \n",
      "第二大节                                                      \n",
      "第三大节                                                      \n",
      "第四大节                                                      \n",
      "第五大节                                                      \n",
      "\n",
      "                                                     周三  \\\n",
      "第一大节  Linux程序设计 01-16周 10201 黄荣兵 软件(本)17-3、软件(本)17-4...   \n",
      "第二大节                                                      \n",
      "第三大节                                                      \n",
      "第四大节                                                      \n",
      "第五大节                                                      \n",
      "\n",
      "                                                     周四  \\\n",
      "第一大节  Linux程序设计 01-16周 10201 黄荣兵 软件(本)17-3、软件(本)17-4...   \n",
      "第二大节                                                      \n",
      "第三大节                                                      \n",
      "第四大节                                                      \n",
      "第五大节                                                      \n",
      "\n",
      "                                                    周五  \\\n",
      "第一大节                                                     \n",
      "第二大节                                                     \n",
      "第三大节                                                     \n",
      "第四大节                                                     \n",
      "第五大节  数据库原理 01-16周 10202 黄荣兵 软件(本)18-1、软件(本)18-2 10202   \n",
      "\n",
      "                                                    周六 周日  \n",
      "第一大节                                                       \n",
      "第二大节                                                       \n",
      "第三大节                                                       \n",
      "第四大节                                                       \n",
      "第五大节  数据库原理 01-16周 10202 黄荣兵 软件(本)18-1、软件(本)18-2 10202     \n"
     ]
    }
   ],
   "source": [
    "teacher = Teacher(\"黄荣兵\")\n",
    "df = teacherTable(teacher)\n",
    "print(df)\n",
    "url = \"E:\\学习\\课程\\大三下\\机器学习\\实验\\实验三\\\\\" +teacher.name + \" - 教师课表.xlsx\"\n",
    "df.to_excel(url)"
   ]
  },
  {
   "cell_type": "markdown",
   "metadata": {},
   "source": [
    "#### 学生班级课表"
   ]
  },
  {
   "cell_type": "code",
   "execution_count": 43,
   "metadata": {},
   "outputs": [],
   "source": [
    "def classTable(classInfo):\n",
    "    df = pd.DataFrame(columns=week)\n",
    "    tmp = [\"\", \"\", \"\", \"\", \"\", \"\", \"\"]\n",
    "    for i in range(35):\n",
    "        for arrange in arrangeList[i]:\n",
    "            if arrange.course.classInfo.name == classInfo.name:\n",
    "                tmp[i%7] = str(arrange)+\" \"+ str(arrange.course.teacher)+\" \"+str(arrange.course.classInfo.name)+\" \"+str(arrange.classroom)\n",
    "                break\n",
    "        if i%7 == 6:\n",
    "\n",
    "            df.loc[schoolTime[i//7][0]] = tmp\n",
    "            tmp = [\"\", \"\", \"\", \"\", \"\", \"\", \"\"]\n",
    "    return df"
   ]
  },
  {
   "cell_type": "code",
   "execution_count": 48,
   "metadata": {},
   "outputs": [
    {
     "name": "stdout",
     "output_type": "stream",
     "text": [
      "                                                     周一  \\\n",
      "第一大节  Linux程序设计 01-16周 10201 黄荣兵 软件(本)17-1、软件(本)17-2...   \n",
      "第二大节                                                      \n",
      "第三大节                                                      \n",
      "第四大节                                                      \n",
      "第五大节                                                      \n",
      "\n",
      "                                                     周二  \\\n",
      "第一大节  Linux程序设计 01-16周 10201 黄荣兵 软件(本)17-1、软件(本)17-2...   \n",
      "第二大节  J2EE常用框架技术 01-16周 10201 于曦 软件(本)17-1、软件(本)17-2...   \n",
      "第三大节                                                      \n",
      "第四大节                                                      \n",
      "第五大节                                                      \n",
      "\n",
      "                                                     周三  \\\n",
      "第一大节                                                      \n",
      "第二大节  J2EE常用框架技术 01-16周 10201 于曦 软件(本)17-1、软件(本)17-2...   \n",
      "第三大节  移动开发技术 01-16周 10201 苏长明 软件(本)17-1、软件(本)17-2 10201   \n",
      "第四大节                                                      \n",
      "第五大节                                                      \n",
      "\n",
      "                                                     周四  \\\n",
      "第一大节                                                      \n",
      "第二大节                                                      \n",
      "第三大节  移动开发技术 01-16周 10201 苏长明 软件(本)17-1、软件(本)17-2 10201   \n",
      "第四大节                                                      \n",
      "第五大节                                                      \n",
      "\n",
      "                                                    周五  \\\n",
      "第一大节  IT新技术 01-16周 10201 胡德昆 软件(本)17-1、软件(本)17-2 10201   \n",
      "第二大节                                                     \n",
      "第三大节                                                     \n",
      "第四大节                                                     \n",
      "第五大节                                                     \n",
      "\n",
      "                                                     周六  \\\n",
      "第一大节   IT新技术 01-16周 10201 胡德昆 软件(本)17-1、软件(本)17-2 10201   \n",
      "第二大节  软件系统分析与设计技术 01-16周 10201 赵卫东 软件(本)17-1、软件(本)17...   \n",
      "第三大节                                                      \n",
      "第四大节                                                      \n",
      "第五大节                                                      \n",
      "\n",
      "                                                     周日  \n",
      "第一大节                                                     \n",
      "第二大节  软件系统分析与设计技术 01-16周 10201 赵卫东 软件(本)17-1、软件(本)17...  \n",
      "第三大节  软件工程经济学 01-16周 10201 李立 软件(本)17-1、软件(本)17-2 10201  \n",
      "第四大节                                                     \n",
      "第五大节                                                     \n"
     ]
    }
   ],
   "source": [
    "classInfo = ClassInfo(\"软件(本)17-1、软件(本)17-2\", 1)\n",
    "df = classTable(classInfo)\n",
    "print(df)\n",
    "url = \"E:\\学习\\课程\\大三下\\机器学习\\实验\\实验三\\\\\" +classInfo.name + \" - 班级课表.xlsx\"\n",
    "df.to_excel(url)"
   ]
  },
  {
   "cell_type": "markdown",
   "metadata": {},
   "source": [
    "#### 教室课表"
   ]
  },
  {
   "cell_type": "code",
   "execution_count": 45,
   "metadata": {},
   "outputs": [],
   "source": [
    "def classroomTable(classInfo):\n",
    "    df = pd.DataFrame(columns=week)\n",
    "    tmp = [\"\", \"\", \"\", \"\", \"\", \"\", \"\"]\n",
    "    for i in range(35):\n",
    "        for arrange in arrangeList[i]:\n",
    "            if arrange.classroom.id == classroom.id:\n",
    "                tmp[i%7] = str(arrange)+\" \"+ str(arrange.course.teacher)+\" \"+str(arrange.course.classInfo.name)\n",
    "                break\n",
    "        if i%7 == 6:\n",
    "\n",
    "            df.loc[schoolTime[i//7][0]] = tmp\n",
    "            tmp = [\"\", \"\", \"\", \"\", \"\", \"\", \"\"]\n",
    "    return df"
   ]
  },
  {
   "cell_type": "code",
   "execution_count": 51,
   "metadata": {},
   "outputs": [
    {
     "name": "stdout",
     "output_type": "stream",
     "text": [
      "                                                    周一  \\\n",
      "第一大节    Linux程序设计 01-16周 10201 黄荣兵 软件(本)17-1、软件(本)17-2   \n",
      "第二大节        IT新技术 01-16周 10201 胡德昆 软件(本)17-3、软件(本)17-4   \n",
      "第三大节  软件系统分析与设计技术 01-16周 10201 赵卫东 软件(本)17-3、软件(本)17-4   \n",
      "第四大节       软件工程经济学 01-16周 10201 李立 软件(本)17-3、软件(本)17-4   \n",
      "第五大节    数字媒体综合案例制作 01-16周 10201 赵荣 数媒(本)17-1、数媒(本)17-2   \n",
      "\n",
      "                                                    周二  \\\n",
      "第一大节    Linux程序设计 01-16周 10201 黄荣兵 软件(本)17-1、软件(本)17-2   \n",
      "第二大节    J2EE常用框架技术 01-16周 10201 于曦 软件(本)17-1、软件(本)17-2   \n",
      "第三大节  软件系统分析与设计技术 01-16周 10201 赵卫东 软件(本)17-3、软件(本)17-4   \n",
      "第四大节       数字摄影与摄像 01-16周 10201 朱然 数媒(本)17-1、数媒(本)17-2   \n",
      "第五大节    数字媒体综合案例制作 01-16周 10201 赵荣 数媒(本)17-1、数媒(本)17-2   \n",
      "\n",
      "                                                  周三  \\\n",
      "第一大节  Linux程序设计 01-16周 10201 黄荣兵 软件(本)17-3、软件(本)17-4   \n",
      "第二大节  J2EE常用框架技术 01-16周 10201 于曦 软件(本)17-1、软件(本)17-2   \n",
      "第三大节     移动开发技术 01-16周 10201 苏长明 软件(本)17-1、软件(本)17-2   \n",
      "第四大节     数字摄影与摄像 01-16周 10201 朱然 数媒(本)17-1、数媒(本)17-2   \n",
      "第五大节       IT新技术 01-16周 10201 张洪 数媒(本)17-1、数媒(本)17-2   \n",
      "\n",
      "                                                   周四  \\\n",
      "第一大节   Linux程序设计 01-16周 10201 黄荣兵 软件(本)17-3、软件(本)17-4   \n",
      "第二大节  J2EE常用框架技术 01-16周 10201 聂莉莎 软件(本)17-3、软件(本)17-4   \n",
      "第三大节      移动开发技术 01-16周 10201 苏长明 软件(本)17-1、软件(本)17-2   \n",
      "第四大节         虚拟现实 01-16周 10201 曾宇 数媒(本)17-1、数媒(本)17-2   \n",
      "第五大节        IT新技术 01-16周 10201 张洪 数媒(本)17-1、数媒(本)17-2   \n",
      "\n",
      "                                                   周五  \\\n",
      "第一大节       IT新技术 01-16周 10201 胡德昆 软件(本)17-1、软件(本)17-2   \n",
      "第二大节  J2EE常用框架技术 01-16周 10201 聂莉莎 软件(本)17-3、软件(本)17-4   \n",
      "第三大节      移动开发技术 01-16周 10201 苏长明 软件(本)17-3、软件(本)17-4   \n",
      "第四大节         虚拟现实 01-16周 10201 曾宇 数媒(本)17-1、数媒(本)17-2   \n",
      "第五大节    面向对象程序设计 01-16周 10201 刘永红 软件(本)19-1、软件(本)19-2   \n",
      "\n",
      "                                                    周六  \\\n",
      "第一大节        IT新技术 01-16周 10201 胡德昆 软件(本)17-1、软件(本)17-2   \n",
      "第二大节  软件系统分析与设计技术 01-16周 10201 赵卫东 软件(本)17-1、软件(本)17-2   \n",
      "第三大节       移动开发技术 01-16周 10201 苏长明 软件(本)17-3、软件(本)17-4   \n",
      "第四大节       三维动画制作 01-16周 10201 范文杰 数媒(本)17-1、数媒(本)17-2   \n",
      "第五大节     面向对象程序设计 01-16周 10201 刘永红 软件(本)19-1、软件(本)19-2   \n",
      "\n",
      "                                                    周日  \n",
      "第一大节        IT新技术 01-16周 10201 胡德昆 软件(本)17-3、软件(本)17-4  \n",
      "第二大节  软件系统分析与设计技术 01-16周 10201 赵卫东 软件(本)17-1、软件(本)17-2  \n",
      "第三大节       软件工程经济学 01-16周 10201 李立 软件(本)17-1、软件(本)17-2  \n",
      "第四大节       三维动画制作 01-16周 10201 范文杰 数媒(本)17-1、数媒(本)17-2  \n",
      "第五大节     面向对象程序设计 01-16周 10201 刘永红 软件(本)19-3、软件(本)19-4  \n"
     ]
    }
   ],
   "source": [
    "classroom = Classroom(10201,\"多媒体实验室\", 70)\n",
    "df = classroomTable(classInfo)\n",
    "print(df)\n",
    "url = \"E:\\学习\\课程\\大三下\\机器学习\\实验\\实验三\\\\\" +str(classroom.id) + \" - 教室课表.xlsx\"\n",
    "df.to_excel(url)"
   ]
  },
  {
   "cell_type": "markdown",
   "metadata": {},
   "source": [
    "## 实验总结"
   ]
  },
  {
   "cell_type": "markdown",
   "metadata": {},
   "source": [
    "在拿道题目的时候感觉很懵，但是经过逐步分析，发现这次实验只是代码多了一些，逻辑上还是很清楚的。\n",
    "但是在各方面的优化以及面向对象的思想还是不太行"
   ]
  }
 ],
 "metadata": {
  "kernelspec": {
   "display_name": "Python 3",
   "language": "python",
   "name": "python3"
  },
  "language_info": {
   "codemirror_mode": {
    "name": "ipython",
    "version": 3
   },
   "file_extension": ".py",
   "mimetype": "text/x-python",
   "name": "python",
   "nbconvert_exporter": "python",
   "pygments_lexer": "ipython3",
   "version": "3.7.4"
  }
 },
 "nbformat": 4,
 "nbformat_minor": 2
}
